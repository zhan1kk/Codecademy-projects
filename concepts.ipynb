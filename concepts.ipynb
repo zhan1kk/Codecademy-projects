{
 "cells": [
  {
   "cell_type": "markdown",
   "source": [
    "Example of LOCF (Last Observation Carried Forward) using pandas built-in functions"
   ],
   "metadata": {
    "collapsed": false
   }
  },
  {
   "cell_type": "code",
   "execution_count": 12,
   "outputs": [
    {
     "name": "stdout",
     "output_type": "stream",
     "text": [
      "             timestamp  value1  value2\n",
      "0  2021-11-11 12:00:00     1.0    10.0\n",
      "1  2021-11-11 12:01:00     1.0    10.0\n",
      "2  2021-11-11 12:02:00     2.0     9.0\n",
      "3  2021-11-11 12:03:00     3.0     7.0\n",
      "4  2021-11-11 12:04:00     4.0     NaN\n",
      "5  2021-11-11 12:05:00     4.0     5.0\n",
      "6  2021-11-11 12:06:00     4.0     5.0\n",
      "7  2021-11-11 12:07:00     4.0     5.0\n",
      "8  2021-11-11 12:08:00     6.0     5.0\n",
      "9  2021-11-11 12:09:00     6.0     5.0\n"
     ]
    },
    {
     "name": "stderr",
     "output_type": "stream",
     "text": [
      "C:\\Users\\zhanik\\AppData\\Local\\Temp\\ipykernel_6548\\3025964371.py:13: FutureWarning: A value is trying to be set on a copy of a DataFrame or Series through chained assignment using an inplace method.\n",
      "The behavior will change in pandas 3.0. This inplace method will never work because the intermediate object on which we are setting values always behaves as a copy.\n",
      "\n",
      "For example, when doing 'df[col].method(value, inplace=True)', try using 'df.method({col: value}, inplace=True)' or df[col] = df[col].method(value) instead, to perform the operation inplace on the original object.\n",
      "\n",
      "\n",
      "  df[\"value1\"].ffill(axis=0, inplace=True)\n"
     ]
    }
   ],
   "source": [
    "import pandas as pd\n",
    "import numpy as np\n",
    "\n",
    "d = {'timestamp': ['2021-11-11 12:00:00','2021-11-11 12:01:00','2021-11-11 12:02:00','2021-11-11 12:03:00','2021-11-11 12:04:00',\n",
    "                    '2021-11-11 12:05:00','2021-11-11 12:06:00','2021-11-11 12:07:00','2021-11-11 12:08:00','2021-11-11 12:09:00'],\n",
    "    'value1': [1,1,2,3,4,4,4,np.nan,6,6],\n",
    "    'value2': [10,10,9,7,np.nan,5,5,5,5,5]\n",
    "    }\n",
    "\n",
    "df = pd.DataFrame(data=d)\n",
    "\n",
    "## Fill in the missing data in the value1 column\n",
    "df[\"value1\"].ffill(axis=0, inplace=True)\n",
    "\n",
    "print(df)"
   ],
   "metadata": {
    "collapsed": false,
    "ExecuteTime": {
     "end_time": "2024-09-20T10:36:16.809158900Z",
     "start_time": "2024-09-20T10:36:16.793532100Z"
    }
   }
  },
  {
   "cell_type": "markdown",
   "source": [
    "Example of NOCB (Next Observation Carried Backward) using pandas built-in functions"
   ],
   "metadata": {
    "collapsed": false
   }
  },
  {
   "cell_type": "code",
   "execution_count": 13,
   "outputs": [
    {
     "name": "stdout",
     "output_type": "stream",
     "text": [
      "             timestamp  value1  value2\n",
      "0  2021-11-11 12:00:00     1.0    10.0\n",
      "1  2021-11-11 12:01:00     1.0    10.0\n",
      "2  2021-11-11 12:02:00     2.0     9.0\n",
      "3  2021-11-11 12:03:00     3.0     7.0\n",
      "4  2021-11-11 12:04:00     4.0     5.0\n",
      "5  2021-11-11 12:05:00     4.0     5.0\n",
      "6  2021-11-11 12:06:00     4.0     5.0\n",
      "7  2021-11-11 12:07:00     4.0     5.0\n",
      "8  2021-11-11 12:08:00     6.0     5.0\n",
      "9  2021-11-11 12:09:00     6.0     5.0\n"
     ]
    },
    {
     "name": "stderr",
     "output_type": "stream",
     "text": [
      "C:\\Users\\zhanik\\AppData\\Local\\Temp\\ipykernel_6548\\4024226159.py:2: FutureWarning: A value is trying to be set on a copy of a DataFrame or Series through chained assignment using an inplace method.\n",
      "The behavior will change in pandas 3.0. This inplace method will never work because the intermediate object on which we are setting values always behaves as a copy.\n",
      "\n",
      "For example, when doing 'df[col].method(value, inplace=True)', try using 'df.method({col: value}, inplace=True)' or df[col] = df[col].method(value) instead, to perform the operation inplace on the original object.\n",
      "\n",
      "\n",
      "  df[\"value2\"].bfill(axis=0, inplace=True)\n"
     ]
    }
   ],
   "source": [
    "## Fill in the missing data in the 'value2' column\n",
    "df[\"value2\"].bfill(axis=0, inplace=True)\n",
    "\n",
    "print(df)"
   ],
   "metadata": {
    "collapsed": false,
    "ExecuteTime": {
     "end_time": "2024-09-20T10:37:16.874052300Z",
     "start_time": "2024-09-20T10:37:16.842195300Z"
    }
   }
  },
  {
   "cell_type": "markdown",
   "source": [
    "Examples of linear interpolation using numPy"
   ],
   "metadata": {
    "collapsed": false
   }
  },
  {
   "cell_type": "code",
   "execution_count": 14,
   "outputs": [
    {
     "data": {
      "text/plain": "array([1460545.5])"
     },
     "execution_count": 14,
     "metadata": {},
     "output_type": "execute_result"
    }
   ],
   "source": [
    "x = [2015]\n",
    "xp = [2000,2005,2010,2020]\n",
    "yp = [1000000,1157018,1238120,1682971]\n",
    "\n",
    "y = np.interp(x, xp, yp)\n",
    "y"
   ],
   "metadata": {
    "collapsed": false,
    "ExecuteTime": {
     "end_time": "2024-09-20T10:38:23.767769900Z",
     "start_time": "2024-09-20T10:38:23.730694400Z"
    }
   }
  },
  {
   "cell_type": "markdown",
   "source": [
    "One more example but with filling multiple missing values"
   ],
   "metadata": {
    "collapsed": false
   }
  },
  {
   "cell_type": "code",
   "execution_count": 16,
   "outputs": [
    {
     "name": "stdout",
     "output_type": "stream",
     "text": [
      "[9150.  7212.  5047.5 2883. ]\n"
     ]
    }
   ],
   "source": [
    "evens = [2000,2002,2004,2006,2008]\n",
    "even_values = [10000,8300,6124,3971,1795]\n",
    "\n",
    "# Define odds and odd_values\n",
    "odds = range(2001, 2008, 2)\n",
    "odd_values = np.interp(odds, evens, even_values)\n",
    "\n",
    "print(odd_values)"
   ],
   "metadata": {
    "collapsed": false,
    "ExecuteTime": {
     "end_time": "2024-09-20T10:40:12.636550200Z",
     "start_time": "2024-09-20T10:40:12.553590700Z"
    }
   }
  },
  {
   "cell_type": "markdown",
   "source": [
    "Another example of implementing linear interpolation but this time using scipy library"
   ],
   "metadata": {
    "collapsed": false
   }
  },
  {
   "cell_type": "code",
   "execution_count": 15,
   "outputs": [
    {
     "data": {
      "text/plain": "array(1460545.5)"
     },
     "execution_count": 15,
     "metadata": {},
     "output_type": "execute_result"
    }
   ],
   "source": [
    "from scipy.interpolate import interp1d\n",
    "\n",
    "x = [2000,2005,2010,2020]\n",
    "y = [1000000,1157018,1238120,1682971]\n",
    "\n",
    "x_value = 2015\n",
    "\n",
    "# Finding the interpolation line\n",
    "interp_line = interp1d(x, y)\n",
    "\n",
    "y_value = interp_line(x_value)\n",
    "y_value"
   ],
   "metadata": {
    "collapsed": false,
    "ExecuteTime": {
     "end_time": "2024-09-20T10:39:17.835804900Z",
     "start_time": "2024-09-20T10:39:17.757676700Z"
    }
   }
  },
  {
   "cell_type": "markdown",
   "source": [
    "Example of implementing multiple imputation using sklearn library"
   ],
   "metadata": {
    "collapsed": false
   }
  },
  {
   "cell_type": "code",
   "execution_count": 4,
   "outputs": [
    {
     "name": "stdout",
     "output_type": "stream",
     "text": [
      "      X     Y    Z\n",
      "0   5.4  18.0  7.6\n",
      "1  13.8  27.4  4.6\n",
      "2  14.7  17.4  4.2\n",
      "3  17.6  18.3  5.6\n",
      "4  11.2  49.6  4.7\n",
      "5   1.1  48.9  8.5\n",
      "6  12.9  17.4  3.5\n",
      "7   3.4  13.6  5.7\n",
      "8  11.2  16.1  1.8\n",
      "9  10.2  42.7  4.7\n"
     ]
    }
   ],
   "source": [
    "import numpy as np\n",
    "from sklearn.experimental import enable_iterative_imputer\n",
    "from sklearn.impute import IterativeImputer\n",
    "import pandas as pd\n",
    "\n",
    "# Create the dataset as a Python dictionary\n",
    "d = {\n",
    "    'X': [5.4,13.8,14.7,17.6,np.nan,1.1,12.9,3.4,np.nan,10.2],\n",
    "    'Y': [18,27.4,np.nan,18.3,49.6,48.9,np.nan,13.6,16.1,42.7],\n",
    "    'Z': [7.6,4.6,4.2,np.nan,4.7,8.5,3.5,np.nan,1.8,4.7]\n",
    "}\n",
    "\n",
    "dTest = {\n",
    "    'X': [13.1, 10.8, np.nan, 9.7, 11.2],\n",
    "    'Y': [18.3, np.nan, 14.1, 19.8, 17.5],\n",
    "    'Z': [4.2, 3.1, 5.7,np.nan, 9.6]\n",
    "}\n",
    "\n",
    "# Create the pandas DataFrame from our dictionary\n",
    "df = pd.DataFrame(data=d)\n",
    "dfTest = pd.DataFrame(data=dTest)\n",
    "\n",
    "# Create the IterativeImputer model to predict missing values\n",
    "imp = IterativeImputer(max_iter=10, random_state=0)\n",
    "\n",
    "# Fit the model to the test dataset\n",
    "imp.fit(dfTest)\n",
    "\n",
    "# Transform the model on the entire dataset\n",
    "dfComplete = pd.DataFrame(np.round(imp.transform(df),1), columns=['X','Y','Z'])\n",
    "\n",
    "print(dfComplete.head(10))"
   ],
   "metadata": {
    "collapsed": false,
    "ExecuteTime": {
     "end_time": "2024-09-20T10:30:43.068152100Z",
     "start_time": "2024-09-20T10:30:43.011522400Z"
    }
   }
  },
  {
   "cell_type": "code",
   "execution_count": null,
   "outputs": [],
   "source": [],
   "metadata": {
    "collapsed": false
   }
  }
 ],
 "metadata": {
  "kernelspec": {
   "display_name": "Python 3",
   "language": "python",
   "name": "python3"
  },
  "language_info": {
   "codemirror_mode": {
    "name": "ipython",
    "version": 2
   },
   "file_extension": ".py",
   "mimetype": "text/x-python",
   "name": "python",
   "nbconvert_exporter": "python",
   "pygments_lexer": "ipython2",
   "version": "2.7.6"
  }
 },
 "nbformat": 4,
 "nbformat_minor": 0
}
